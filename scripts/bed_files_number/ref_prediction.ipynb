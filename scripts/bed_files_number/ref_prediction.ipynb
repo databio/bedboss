{
 "cells": [
  {
   "cell_type": "code",
   "execution_count": 7,
   "id": "f1bde4e6",
   "metadata": {},
   "outputs": [],
   "source": [
    "import pandas as pd\n",
    "import matplotlib.pyplot as plt\n",
    "import numpy as np"
   ]
  },
  {
   "cell_type": "code",
   "execution_count": 3,
   "id": "497b69ed",
   "metadata": {},
   "outputs": [],
   "source": [
    "data = pd.read_csv(\"genome_prediction.csv\")"
   ]
  },
  {
   "cell_type": "code",
   "execution_count": 4,
   "id": "c0404845",
   "metadata": {},
   "outputs": [
    {
     "data": {
      "text/html": [
       "<div>\n",
       "<style scoped>\n",
       "    .dataframe tbody tr th:only-of-type {\n",
       "        vertical-align: middle;\n",
       "    }\n",
       "\n",
       "    .dataframe tbody tr th {\n",
       "        vertical-align: top;\n",
       "    }\n",
       "\n",
       "    .dataframe thead th {\n",
       "        text-align: right;\n",
       "    }\n",
       "</style>\n",
       "<table border=\"1\" class=\"dataframe\">\n",
       "  <thead>\n",
       "    <tr style=\"text-align: right;\">\n",
       "      <th></th>\n",
       "      <th>gsm</th>\n",
       "      <th>genome</th>\n",
       "      <th>genome_alias</th>\n",
       "    </tr>\n",
       "  </thead>\n",
       "  <tbody>\n",
       "    <tr>\n",
       "      <th>0</th>\n",
       "      <td>gsm7709917</td>\n",
       "      <td>hg38</td>\n",
       "      <td>hg38</td>\n",
       "    </tr>\n",
       "    <tr>\n",
       "      <th>1</th>\n",
       "      <td>gsm7999811</td>\n",
       "      <td>mm10/GRCm38</td>\n",
       "      <td>NaN</td>\n",
       "    </tr>\n",
       "    <tr>\n",
       "      <th>2</th>\n",
       "      <td>gsm5872602</td>\n",
       "      <td>mm10, ERCC</td>\n",
       "      <td>mm10</td>\n",
       "    </tr>\n",
       "    <tr>\n",
       "      <th>3</th>\n",
       "      <td>gsm6605824</td>\n",
       "      <td>mm10</td>\n",
       "      <td>mm10</td>\n",
       "    </tr>\n",
       "    <tr>\n",
       "      <th>4</th>\n",
       "      <td>gsm7884473</td>\n",
       "      <td>dm6</td>\n",
       "      <td>dm6</td>\n",
       "    </tr>\n",
       "    <tr>\n",
       "      <th>...</th>\n",
       "      <td>...</td>\n",
       "      <td>...</td>\n",
       "      <td>...</td>\n",
       "    </tr>\n",
       "    <tr>\n",
       "      <th>4391</th>\n",
       "      <td>gsm5139496</td>\n",
       "      <td>UCSC hg19</td>\n",
       "      <td>hg19</td>\n",
       "    </tr>\n",
       "    <tr>\n",
       "      <th>4392</th>\n",
       "      <td>gsm8496993</td>\n",
       "      <td>hg38</td>\n",
       "      <td>hg38</td>\n",
       "    </tr>\n",
       "    <tr>\n",
       "      <th>4393</th>\n",
       "      <td>gsm8487672</td>\n",
       "      <td>B73v5 or Mo17_CAU1.0</td>\n",
       "      <td>NaN</td>\n",
       "    </tr>\n",
       "    <tr>\n",
       "      <th>4394</th>\n",
       "      <td>gsm6426706</td>\n",
       "      <td>NaN</td>\n",
       "      <td>NaN</td>\n",
       "    </tr>\n",
       "    <tr>\n",
       "      <th>4395</th>\n",
       "      <td>gsm7163589</td>\n",
       "      <td>hg19 (Homo sapiens), mm9 (Mus musculus)</td>\n",
       "      <td>hg19</td>\n",
       "    </tr>\n",
       "  </tbody>\n",
       "</table>\n",
       "<p>4396 rows × 3 columns</p>\n",
       "</div>"
      ],
      "text/plain": [
       "             gsm                                   genome genome_alias\n",
       "0     gsm7709917                                     hg38         hg38\n",
       "1     gsm7999811                              mm10/GRCm38          NaN\n",
       "2     gsm5872602                               mm10, ERCC         mm10\n",
       "3     gsm6605824                                     mm10         mm10\n",
       "4     gsm7884473                                      dm6          dm6\n",
       "...          ...                                      ...          ...\n",
       "4391  gsm5139496                                UCSC hg19         hg19\n",
       "4392  gsm8496993                                     hg38         hg38\n",
       "4393  gsm8487672                     B73v5 or Mo17_CAU1.0          NaN\n",
       "4394  gsm6426706                                      NaN          NaN\n",
       "4395  gsm7163589  hg19 (Homo sapiens), mm9 (Mus musculus)         hg19\n",
       "\n",
       "[4396 rows x 3 columns]"
      ]
     },
     "execution_count": 4,
     "metadata": {},
     "output_type": "execute_result"
    }
   ],
   "source": [
    "data"
   ]
  },
  {
   "cell_type": "code",
   "execution_count": 16,
   "id": "c23c7c8e",
   "metadata": {},
   "outputs": [],
   "source": [
    "data['provided_in_predicted'] = data.apply(lambda row: str(row['genome']) in str(row['genome_alias']), axis=1)\n",
    "data['predicted_in_provided'] = data.apply(lambda row: str(row['genome_alias']) in str(row['genome']), axis=1)\n"
   ]
  },
  {
   "cell_type": "code",
   "execution_count": 17,
   "id": "f280a42f",
   "metadata": {},
   "outputs": [
    {
     "data": {
      "text/html": [
       "<div>\n",
       "<style scoped>\n",
       "    .dataframe tbody tr th:only-of-type {\n",
       "        vertical-align: middle;\n",
       "    }\n",
       "\n",
       "    .dataframe tbody tr th {\n",
       "        vertical-align: top;\n",
       "    }\n",
       "\n",
       "    .dataframe thead th {\n",
       "        text-align: right;\n",
       "    }\n",
       "</style>\n",
       "<table border=\"1\" class=\"dataframe\">\n",
       "  <thead>\n",
       "    <tr style=\"text-align: right;\">\n",
       "      <th></th>\n",
       "      <th>gsm</th>\n",
       "      <th>genome</th>\n",
       "      <th>genome_alias</th>\n",
       "      <th>col1_in_col2</th>\n",
       "      <th>provided_in_predicted</th>\n",
       "      <th>predicted_in_provided</th>\n",
       "    </tr>\n",
       "  </thead>\n",
       "  <tbody>\n",
       "    <tr>\n",
       "      <th>0</th>\n",
       "      <td>gsm7709917</td>\n",
       "      <td>hg38</td>\n",
       "      <td>hg38</td>\n",
       "      <td>True</td>\n",
       "      <td>True</td>\n",
       "      <td>True</td>\n",
       "    </tr>\n",
       "    <tr>\n",
       "      <th>1</th>\n",
       "      <td>gsm7999811</td>\n",
       "      <td>mm10/GRCm38</td>\n",
       "      <td>NaN</td>\n",
       "      <td>False</td>\n",
       "      <td>False</td>\n",
       "      <td>False</td>\n",
       "    </tr>\n",
       "    <tr>\n",
       "      <th>2</th>\n",
       "      <td>gsm5872602</td>\n",
       "      <td>mm10, ERCC</td>\n",
       "      <td>mm10</td>\n",
       "      <td>True</td>\n",
       "      <td>False</td>\n",
       "      <td>True</td>\n",
       "    </tr>\n",
       "    <tr>\n",
       "      <th>3</th>\n",
       "      <td>gsm6605824</td>\n",
       "      <td>mm10</td>\n",
       "      <td>mm10</td>\n",
       "      <td>True</td>\n",
       "      <td>True</td>\n",
       "      <td>True</td>\n",
       "    </tr>\n",
       "    <tr>\n",
       "      <th>4</th>\n",
       "      <td>gsm7884473</td>\n",
       "      <td>dm6</td>\n",
       "      <td>dm6</td>\n",
       "      <td>True</td>\n",
       "      <td>True</td>\n",
       "      <td>True</td>\n",
       "    </tr>\n",
       "    <tr>\n",
       "      <th>...</th>\n",
       "      <td>...</td>\n",
       "      <td>...</td>\n",
       "      <td>...</td>\n",
       "      <td>...</td>\n",
       "      <td>...</td>\n",
       "      <td>...</td>\n",
       "    </tr>\n",
       "    <tr>\n",
       "      <th>4391</th>\n",
       "      <td>gsm5139496</td>\n",
       "      <td>UCSC hg19</td>\n",
       "      <td>hg19</td>\n",
       "      <td>True</td>\n",
       "      <td>False</td>\n",
       "      <td>True</td>\n",
       "    </tr>\n",
       "    <tr>\n",
       "      <th>4392</th>\n",
       "      <td>gsm8496993</td>\n",
       "      <td>hg38</td>\n",
       "      <td>hg38</td>\n",
       "      <td>True</td>\n",
       "      <td>True</td>\n",
       "      <td>True</td>\n",
       "    </tr>\n",
       "    <tr>\n",
       "      <th>4393</th>\n",
       "      <td>gsm8487672</td>\n",
       "      <td>B73v5 or Mo17_CAU1.0</td>\n",
       "      <td>NaN</td>\n",
       "      <td>False</td>\n",
       "      <td>False</td>\n",
       "      <td>False</td>\n",
       "    </tr>\n",
       "    <tr>\n",
       "      <th>4394</th>\n",
       "      <td>gsm6426706</td>\n",
       "      <td>NaN</td>\n",
       "      <td>NaN</td>\n",
       "      <td>True</td>\n",
       "      <td>True</td>\n",
       "      <td>True</td>\n",
       "    </tr>\n",
       "    <tr>\n",
       "      <th>4395</th>\n",
       "      <td>gsm7163589</td>\n",
       "      <td>hg19 (Homo sapiens), mm9 (Mus musculus)</td>\n",
       "      <td>hg19</td>\n",
       "      <td>True</td>\n",
       "      <td>False</td>\n",
       "      <td>True</td>\n",
       "    </tr>\n",
       "  </tbody>\n",
       "</table>\n",
       "<p>4396 rows × 6 columns</p>\n",
       "</div>"
      ],
      "text/plain": [
       "             gsm                                   genome genome_alias  \\\n",
       "0     gsm7709917                                     hg38         hg38   \n",
       "1     gsm7999811                              mm10/GRCm38          NaN   \n",
       "2     gsm5872602                               mm10, ERCC         mm10   \n",
       "3     gsm6605824                                     mm10         mm10   \n",
       "4     gsm7884473                                      dm6          dm6   \n",
       "...          ...                                      ...          ...   \n",
       "4391  gsm5139496                                UCSC hg19         hg19   \n",
       "4392  gsm8496993                                     hg38         hg38   \n",
       "4393  gsm8487672                     B73v5 or Mo17_CAU1.0          NaN   \n",
       "4394  gsm6426706                                      NaN          NaN   \n",
       "4395  gsm7163589  hg19 (Homo sapiens), mm9 (Mus musculus)         hg19   \n",
       "\n",
       "      col1_in_col2  provided_in_predicted  predicted_in_provided  \n",
       "0             True                   True                   True  \n",
       "1            False                  False                  False  \n",
       "2             True                  False                   True  \n",
       "3             True                   True                   True  \n",
       "4             True                   True                   True  \n",
       "...            ...                    ...                    ...  \n",
       "4391          True                  False                   True  \n",
       "4392          True                   True                   True  \n",
       "4393         False                  False                  False  \n",
       "4394          True                   True                   True  \n",
       "4395          True                  False                   True  \n",
       "\n",
       "[4396 rows x 6 columns]"
      ]
     },
     "execution_count": 17,
     "metadata": {},
     "output_type": "execute_result"
    }
   ],
   "source": [
    "data"
   ]
  },
  {
   "cell_type": "code",
   "execution_count": 34,
   "id": "c2f0a6bc",
   "metadata": {},
   "outputs": [
    {
     "name": "stdout",
     "output_type": "stream",
     "text": [
      "total=4396\n",
      "predicted=3471\n",
      "not_predicted=925\n",
      "provided_in_predicted=2308\n",
      "predicted_in_provided=2771\n"
     ]
    }
   ],
   "source": [
    "not_predicted = data['genome_alias'].isnull().sum()\n",
    "total = len(data['genome_alias'])\n",
    "predicted = total - not_predicted\n",
    "\n",
    "provided_in_predicted = data['provided_in_predicted'].sum()\n",
    "not_provided_in_predicted = total - provided_in_predicted\n",
    "predicted_in_provided = data['predicted_in_provided'].sum()\n",
    "not_predicted_in_provided = total - predicted_in_provided\n",
    "\n",
    "\n",
    "print(f\"{total=}\\n{predicted=}\\n{not_predicted=}\\n{provided_in_predicted=}\\n{predicted_in_provided=}\")\n"
   ]
  },
  {
   "cell_type": "code",
   "execution_count": null,
   "id": "4b76e8a1",
   "metadata": {},
   "outputs": [],
   "source": []
  },
  {
   "cell_type": "code",
   "execution_count": 51,
   "id": "24d08f27",
   "metadata": {},
   "outputs": [
    {
     "data": {
      "image/png": "[encoded data removed]",
      "text/plain": [
       "<Figure size 640x480 with 1 Axes>"
      ]
     },
     "metadata": {},
     "output_type": "display_data"
    }
   ],
   "source": [
    "labels = ['Predicted', 'Not Predicted']\n",
    "sizes = [predicted, not_predicted]\n",
    "\n",
    "fig, ax = plt.subplots()\n",
    "ax.pie(sizes, labels=labels, autopct='%1.1f%%',\n",
    "       colors=['olivedrab', 'yellow'], startangle=90)\n",
    "\n",
    "ax.set_title('Percentage of Predicted Reference Genomes')\n",
    "plt.tight_layout()"
   ]
  },
  {
   "cell_type": "code",
   "execution_count": 52,
   "id": "15ff8d8e",
   "metadata": {},
   "outputs": [],
   "source": [
    "fig.savefig('./predicted_gen_precentage.svg')"
   ]
  },
  {
   "cell_type": "code",
   "execution_count": 49,
   "id": "5a7b98e5",
   "metadata": {},
   "outputs": [
    {
     "data": {
      "text/plain": [
       "Text(0.5, 1.0, 'Match Rate of Predicted Reference Genomes')"
      ]
     },
     "execution_count": 49,
     "metadata": {},
     "output_type": "execute_result"
    },
    {
     "data": {
      "image/png": "[encoded data removed]",
      "text/plain": [
       "<Figure size 640x480 with 1 Axes>"
      ]
     },
     "metadata": {},
     "output_type": "display_data"
    }
   ],
   "source": [
    "labels = ['Predicted genome found in provided string', \n",
    "          'Predicted genome not found in provided string']\n",
    "sizes = [predicted_in_provided, not_predicted_in_provided]\n",
    "colors = ['forestgreen', 'deepskyblue']  # green and red\n",
    "\n",
    "fig, ax = plt.subplots()\n",
    "wedges, texts, autotexts = ax.pie(\n",
    "    sizes, colors=colors, autopct='%1.1f%%', startangle=90\n",
    ")\n",
    "\n",
    "# Add legend to the right\n",
    "ax.legend(\n",
    "    wedges, labels, title=\"Genome Match Status\",\n",
    "    loc=\"center left\", bbox_to_anchor=(1, 0.5)\n",
    ")\n",
    "\n",
    "ax.set_title('Match Rate of Predicted Reference Genomes')"
   ]
  },
  {
   "cell_type": "code",
   "execution_count": 50,
   "id": "2a7e108d",
   "metadata": {},
   "outputs": [],
   "source": [
    "fig.savefig('./genome_match_status.svg')"
   ]
  },
  {
   "cell_type": "code",
   "execution_count": null,
   "id": "3db1d350",
   "metadata": {},
   "outputs": [],
   "source": []
  },
  {
   "cell_type": "code",
   "execution_count": 21,
   "id": "546b571b",
   "metadata": {},
   "outputs": [],
   "source": []
  }
 ],
 "metadata": {
  "kernelspec": {
   "display_name": "Python 3 (ipykernel)",
   "language": "python",
   "name": "python3"
  },
  "language_info": {
   "codemirror_mode": {
    "name": "ipython",
    "version": 3
   },
   "file_extension": ".py",
   "mimetype": "text/x-python",
   "name": "python",
   "nbconvert_exporter": "python",
   "pygments_lexer": "ipython3",
   "version": "3.10.12"
  }
 },
 "nbformat": 4,
 "nbformat_minor": 5
}
